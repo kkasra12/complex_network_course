{
 "cells": [
  {
   "cell_type": "code",
   "execution_count": 2,
   "metadata": {},
   "outputs": [],
   "source": [
    "import os\n",
    "import subprocess\n",
    "import json\n",
    "import numpy as np\n",
    "import networkx as nx\n",
    "import matplotlib.pyplot as plt\n",
    "from matplotlib import colors as mlp_colors\n",
    "import random\n"
   ]
  },
  {
   "cell_type": "code",
   "execution_count": 3,
   "metadata": {},
   "outputs": [
    {
     "name": "stdout",
     "output_type": "stream",
     "text": [
      "Downloaded file: 3437_2.edges\n",
      "Downloaded file: 3437_2.egofeat\n",
      "Downloaded file: 3437_2.feat\n",
      "Downloaded file: 3437_2.featnames\n",
      "Downloaded file: Description\n",
      "Downloaded folder: Facebook-Ego\n",
      "Downloaded file: 6408382.circles\n",
      "Downloaded file: 6408382.edges\n",
      "Downloaded file: 6408382.egofeat\n",
      "Downloaded file: 6408382.feat\n",
      "Downloaded file: 6408382.featnames\n",
      "Downloaded file: Description\n",
      "Downloaded folder: Twitter-Ego\n"
     ]
    },
    {
     "data": {
      "text/plain": [
       "{'Facebook': '3437_2', 'Twitter': '6408382'}"
      ]
     },
     "execution_count": 3,
     "metadata": {},
     "output_type": "execute_result"
    }
   ],
   "source": [
    "# same function from HW3 to download files\n",
    "group_num = 9\n",
    "def download_files(group_num, folders = None, redownload = False):\n",
    "    node_names = {}\n",
    "    root_folder = f\"Group{group_num}\"\n",
    "    root_folder_exist = os.path.exists(root_folder)\n",
    "    if (not root_folder_exist) or redownload:\n",
    "        os.system(f\"rm -rf {root_folder}\")\n",
    "        os.mkdir(root_folder)\n",
    "        if folders is None:\n",
    "            folders = ['Facebook-Ego', 'Twitter-Ego']\n",
    "        for folder in folders:\n",
    "            os.mkdir(os.path.join(root_folder, folder))\n",
    "            res = subprocess.run([\"curl\", \"-s\", f\"https://api.github.com/repos/1250326/exercise_complex_network/contents/Datasets/Group{group_num}/{folder}\"], stdout=subprocess.PIPE)\n",
    "            for file_info in json.loads(res.stdout):\n",
    "                os.system(f\"wget -O {os.path.join(root_folder, folder, (fname:=file_info['name']))} {file_info['download_url']} -q\")\n",
    "                print(f\"Downloaded file: {fname}\")\n",
    "                # if '.' in fname:\n",
    "                    # node_names[folder.split('-')[0]] = fname.split('.')[0]\n",
    "            print(f\"Downloaded folder: {folder}\")\n",
    "    \n",
    "        \n",
    "    for folder in os.listdir(root_folder):\n",
    "        for file in os.listdir(os.path.join(root_folder, folder)):\n",
    "            if '.' in file:\n",
    "                node_names[folder.split('-')[0]] = file.split('.')[0]\n",
    "    return node_names\n",
    "\n",
    "node_names = download_files(group_num, redownload=False)\n",
    "node_names"
   ]
  },
  {
   "cell_type": "markdown",
   "metadata": {},
   "source": [
    "# Question A\n",
    "\n",
    "Please randomly choose two sets of nodes in Facebook-Ego dataset (each consists of 50 nodes\n",
    "without repetition), and calculate the cut size and conductance between the two sets of nodes.\n",
    "Please also plot the partitioning"
   ]
  },
  {
   "cell_type": "code",
   "execution_count": 93,
   "metadata": {},
   "outputs": [
    {
     "name": "stdout",
     "output_type": "stream",
     "text": [
      "Cut size: 89\n"
     ]
    }
   ],
   "source": [
    "n = 50\n",
    "facebook_net = nx.read_edgelist(f\"Group{group_num}/Facebook-Ego/{node_names['Facebook']}.edges\")\n",
    "\n",
    "\n",
    "set1 = random.sample(list(facebook_net.nodes), k=n)\n",
    "set2 = random.sample(list(facebook_net.nodes), k=n)\n",
    "\n",
    "assert len(set(set1)) == len(set(set2)) == n, f\"{len(set(set1))=} != {len(set(set2))=} != {n=}\"\n",
    "\n",
    "cut_size = nx.cut_size(facebook_net, set1, set2, weight='weight')\n",
    "print(f\"Cut size: {cut_size}\")"
   ]
  },
  {
   "cell_type": "markdown",
   "metadata": {},
   "source": [
    "# Question B\n",
    "\n",
    "Please repeat the process mentioned in (a) again but with different sets of nodes. What differences\n",
    "have you observed? What cause the differences?"
   ]
  },
  {
   "cell_type": "code",
   "execution_count": 95,
   "metadata": {},
   "outputs": [
    {
     "name": "stdout",
     "output_type": "stream",
     "text": [
      "Cut size: 115\n"
     ]
    }
   ],
   "source": [
    "set1 = random.sample(list(facebook_net.nodes), k=n)\n",
    "set2 = random.sample(list(facebook_net.nodes), k=n)\n",
    "\n",
    "assert len(set(set1)) == len(set(set2)) == n, f\"{len(set(set1))=} != {len(set(set2))=} != {n=}\"\n",
    "\n",
    "cut_size = nx.cut_size(facebook_net, set1, set2, weight='weight')\n",
    "print(f\"Cut size: {cut_size}\")\n",
    "\n",
    "# what caused the cut size to be different?\n",
    "# the cut size is different because the nodes are randomly selected, so the cut size will be different each time\n",
    "# the cut size is the number of edges that connect the two sets, so the cut size will be different each time the nodes are randomly"
   ]
  },
  {
   "cell_type": "markdown",
   "metadata": {},
   "source": [
    "# Question C\n",
    "\n",
    "Please output the Laplacian matrix of Facebook-Ego dataset."
   ]
  },
  {
   "cell_type": "code",
   "execution_count": 100,
   "metadata": {},
   "outputs": [
    {
     "name": "stdout",
     "output_type": "stream",
     "text": [
      "[[11 -1  0 ...  0  0  0]\n",
      " [-1 11  0 ...  0  0  0]\n",
      " [ 0  0 18 ...  0  0  0]\n",
      " ...\n",
      " [ 0  0  0 ...  1  0  0]\n",
      " [ 0  0  0 ...  0  1  0]\n",
      " [ 0  0  0 ...  0  0  1]]\n"
     ]
    }
   ],
   "source": [
    "laplacian_matrix = nx.laplacian_matrix(facebook_net)\n",
    "print(laplacian_matrix.toarray())"
   ]
  },
  {
   "cell_type": "markdown",
   "metadata": {},
   "source": [
    "# Question D\n",
    "\n",
    "Please return the list of cliques over the entire Facebook-Ego dataset."
   ]
  },
  {
   "cell_type": "code",
   "execution_count": 103,
   "metadata": {},
   "outputs": [
    {
     "name": "stdout",
     "output_type": "stream",
     "text": [
      "['3651', '3683']\n",
      "['3620', '3714']\n",
      "['3652', '3614']\n",
      "['3673', '3612']\n",
      "['3615', '3664']\n",
      "['3616', '3699']\n",
      "['3654', '3697']\n",
      "['3654', '3703']\n",
      "['3654', '3633']\n",
      "['3700', '3669']\n",
      "['3659', '3642']\n",
      "['3659', '3637']\n",
      "['3659', '3610']\n",
      "['3600', '3612']\n",
      "['3732', '3610']\n",
      "['3632', '3720']\n",
      "['3664', '3696']\n",
      "['3675', '3708']\n",
      "['3653', '3720']\n",
      "['3679', '3585']\n",
      "['3679', '3624']\n",
      "['3634', '3593']\n",
      "['3624', '3662']\n",
      "['3592', '3626']\n",
      "['3592', '3589']\n",
      "['3592', '3677']\n",
      "['3682', '3662']\n",
      "['3660', '3610']\n",
      "['3724', '3617']\n",
      "['3606', '3727']\n",
      "['3606', '3662']\n",
      "['3694', '3608']\n",
      "['3610', '3674']\n",
      "['3690', '3617', '3584']\n",
      "['3690', '3617', '3680']\n",
      "['3690', '3617', '3622']\n",
      "['3652', '3665', '3676']\n",
      "['3706', '3593', '3648']\n",
      "['3706', '3705', '3714']\n",
      "['3630', '3602', '3634']\n",
      "['3629', '3698', '3728']\n",
      "['3645', '3601', '3604']\n",
      "['3645', '3601', '3623']\n",
      "['3645', '3617', '3604']\n",
      "['3645', '3617', '3680']\n",
      "['3625', '3672', '3684']\n",
      "['3685', '3698', '3644']\n",
      "['3685', '3698', '3598']\n",
      "['3623', '3593', '3601']\n",
      "['3689', '3621', '3721']\n",
      "['3621', '3721', '3684']\n",
      "['3644', '3607', '3698']\n",
      "['3707', '3627', '3681']\n",
      "['3707', '3605', '3672']\n",
      "['3617', '3719', '3584']\n",
      "['3617', '3719', '3622']\n",
      "['3596', '3681', '3627']\n",
      "['3596', '3603', '3672']\n",
      "['3596', '3603', '3640']\n",
      "['3587', '3696', '3641', '3655']\n",
      "['3620', '3711', '3584', '3718']\n",
      "['3620', '3711', '3584', '3646']\n",
      "['3620', '3711', '3648', '3646']\n",
      "['3595', '3628', '3657', '3725']\n",
      "['3648', '3711', '3593', '3631']\n",
      "['3616', '3716', '3638', '3647']\n",
      "['3656', '3692', '3683', '3667']\n",
      "['3712', '3677', '3692', '3586']\n",
      "['3618', '3692', '3633', '3609']\n",
      "['3695', '3649', '3613', '3639']\n",
      "['3695', '3649', '3613', '3594']\n",
      "['3718', '3711', '3584', '3593']\n",
      "['3718', '3711', '3584', '3643']\n",
      "['3718', '3711', '3680', '3593']\n",
      "['3718', '3711', '3680', '3643']\n",
      "['3697', '3677', '3586', '3684']\n",
      "['3711', '3584', '3593', '3631']\n",
      "['3609', '3721', '3692', '3633']\n",
      "['3707', '3627', '3730', '3640']\n",
      "['3596', '3702', '3605', '3672']\n",
      "['3596', '3702', '3721', '3684']\n",
      "['3596', '3702', '3684', '3672']\n",
      "['3596', '3670', '3686', '3635']\n",
      "['3596', '3604', '3721', '3633']\n",
      "['3596', '3604', '3658', '3731']\n",
      "['3596', '3604', '3633', '3687']\n",
      "['3596', '3604', '3633', '3611']\n",
      "['3596', '3642', '3731', '3658']\n",
      "['3590', '3599', '3615', '3705', '3608']\n",
      "['3590', '3599', '3710', '3715', '3713']\n",
      "['3651', '3677', '3674', '3633', '3586']\n",
      "['3706', '3593', '3714', '3591', '3680']\n",
      "['3648', '3711', '3593', '3719', '3646']\n",
      "['3648', '3711', '3643', '3719', '3646']\n",
      "['3618', '3692', '3633', '3625', '3684']\n",
      "['3625', '3692', '3633', '3674', '3677']\n",
      "['3625', '3692', '3633', '3684', '3721']\n",
      "['3711', '3584', '3593', '3719', '3646']\n",
      "['3711', '3584', '3643', '3719', '3646']\n",
      "['3707', '3605', '3731', '3730', '3640']\n",
      "['3596', '3702', '3627', '3635', '3640']\n",
      "['3596', '3604', '3605', '3672', '3611']\n",
      "['3596', '3692', '3633', '3721', '3684']\n",
      "['3596', '3642', '3731', '3730', '3640']\n",
      "['3590', '3599', '3615', '3705', '3636', '3629']\n",
      "['3590', '3599', '3710', '3728', '3713', '3663']\n",
      "['3590', '3599', '3705', '3722', '3713', '3608']\n",
      "['3656', '3692', '3625', '3633', '3684', '3667']\n",
      "['3656', '3692', '3625', '3633', '3684', '3677']\n",
      "['3596', '3604', '3677', '3674', '3633', '3586']\n",
      "['3596', '3604', '3627', '3635', '3730', '3640']\n",
      "['3590', '3599', '3710', '3728', '3713', '3722', '3608']\n",
      "['3590', '3599', '3710', '3728', '3666', '3636', '3629']\n",
      "['3590', '3599', '3705', '3722', '3713', '3636', '3629']\n",
      "['3596', '3702', '3605', '3670', '3731', '3640', '3635']\n",
      "['3596', '3702', '3605', '3670', '3731', '3640', '3687']\n",
      "['3596', '3604', '3605', '3640', '3731', '3635', '3611']\n",
      "['3596', '3604', '3605', '3640', '3731', '3635', '3730']\n",
      "['3596', '3604', '3605', '3640', '3731', '3687', '3730']\n",
      "['3596', '3692', '3633', '3677', '3586', '3693', '3674']\n",
      "['3596', '3692', '3633', '3677', '3586', '3693', '3684']\n",
      "['3590', '3599', '3710', '3728', '3713', '3722', '3636', '3629']\n"
     ]
    }
   ],
   "source": [
    "cliques = list(nx.find_cliques(facebook_net))\n",
    "print(*sorted(cliques, key=len), sep='\\n')"
   ]
  }
 ],
 "metadata": {
  "kernelspec": {
   "display_name": "py311_complex_net",
   "language": "python",
   "name": "python3"
  },
  "language_info": {
   "codemirror_mode": {
    "name": "ipython",
    "version": 3
   },
   "file_extension": ".py",
   "mimetype": "text/x-python",
   "name": "python",
   "nbconvert_exporter": "python",
   "pygments_lexer": "ipython3",
   "version": "3.11.0"
  }
 },
 "nbformat": 4,
 "nbformat_minor": 2
}
