{
 "cells": [
  {
   "cell_type": "code",
   "execution_count": 1,
   "metadata": {},
   "outputs": [],
   "source": [
    "group_num = 9\n",
    "import os\n",
    "import json\n",
    "import subprocess\n",
    "from collections import defaultdict\n",
    "import random"
   ]
  },
  {
   "cell_type": "code",
   "execution_count": 31,
   "metadata": {},
   "outputs": [
    {
     "name": "stdout",
     "output_type": "stream",
     "text": [
      "[\n",
      "  {\n",
      "    \"name\": \"3437_2.edges\",\n",
      "    \"path\": \"Datasets/Group9/Facebook-Ego/3437_2.edges\",\n",
      "    \"sha\": \"dfa336a00b692fc39b3d553f577bfb41f68e95b3\",\n",
      "    \"size\": 7340,\n",
      "    \"url\": \"https://api.github.com/repos/1250326/exercise_complex_network/contents/Datasets/Group9/Facebook-Ego/3437_2.edges?ref=master\",\n",
      "    \"html_url\": \"https://github.com/1250326/exercise_complex_network/blob/master/Datasets/Group9/Facebook-Ego/3437_2.edges\",\n",
      "    \"git_url\": \"https://api.github.com/repos/1250326/exercise_complex_network/git/blobs/dfa336a00b692fc39b3d553f577bfb41f68e95b3\",\n",
      "    \"download_url\": \"https://raw.githubusercontent.com/1250326/exercise_complex_network/master/Datasets/Group9/Facebook-Ego/3437_2.edges\",\n",
      "    \"type\": \"file\",\n",
      "    \"_links\": {\n",
      "      \"self\": \"https://api.github.com/repos/1250326/exercise_complex_network/contents/Datasets/Group9/Facebook-Ego/3437_2.edges?ref=master\",\n",
      "      \"git\": \"https://api.github.com/repos/1250326/exercise_complex_network/git/blobs/dfa336a00b692fc39b3d553f577bfb41f68e95b3\",\n",
      "      \"html\": \"https://github.com/1250326/exercise_complex_network/blob/master/Datasets/Group9/Facebook-Ego/3437_2.edges\"\n",
      "    }\n",
      "  },\n",
      "  {\n",
      "    \"name\": \"3437_2.egofeat\",\n",
      "    \"path\": \"Datasets/Group9/Facebook-Ego/3437_2.egofeat\",\n"
     ]
    }
   ],
   "source": [
    "# for demonstration:\n",
    "!curl -s https://api.github.com/repos/1250326/exercise_complex_network/contents/Datasets/Group9/Facebook-Ego | head -n 20\n",
    "# !curl -s https://api.github.com/repos/1250326/exercise_complex_network/contents/Datasets/Group9/Twitter-Ego"
   ]
  },
  {
   "cell_type": "code",
   "execution_count": 3,
   "metadata": {},
   "outputs": [],
   "source": [
    "def download_files(group_num, folders = None):\n",
    "    node_names = {}\n",
    "    root_folder = f\"Group{group_num}\"\n",
    "    if not os.path.exists(root_folder):\n",
    "        os.mkdir(root_folder)\n",
    "    else:\n",
    "        print(f\"Folder {root_folder} already exists\")\n",
    "        return\n",
    "    if folders is None:\n",
    "        folders = ['Facebook-Ego', 'Twitter-Ego']\n",
    "    for folder in folders:\n",
    "        os.mkdir(os.path.join(root_folder, folder))\n",
    "        res = subprocess.run([\"curl\", \"-s\", f\"https://api.github.com/repos/1250326/exercise_complex_network/contents/Datasets/Group{group_num}/{folder}\"], stdout=subprocess.PIPE)\n",
    "        for file_info in json.loads(res.stdout):\n",
    "            os.system(f\"wget -O {os.path.join(root_folder, folder, (fname:=file_info['name']))} {file_info['download_url']} -q\")\n",
    "            print(f\"Downloaded file: {fname}\")\n",
    "            if '.' in fname:\n",
    "                node_names[folder.split('-')[0]] = fname.split('.')[0]\n",
    "        print(f\"Downloaded folder: {folder}\")\n",
    "    return node_names"
   ]
  },
  {
   "cell_type": "code",
   "execution_count": 4,
   "metadata": {},
   "outputs": [
    {
     "name": "stdout",
     "output_type": "stream",
     "text": [
      "Downloaded file: 3437_2.edges\n",
      "Downloaded file: 3437_2.egofeat\n",
      "Downloaded file: 3437_2.feat\n",
      "Downloaded file: 3437_2.featnames\n",
      "Downloaded file: Description\n",
      "Downloaded folder: Facebook-Ego\n",
      "Downloaded file: 6408382.circles\n",
      "Downloaded file: 6408382.edges\n",
      "Downloaded file: 6408382.egofeat\n",
      "Downloaded file: 6408382.feat\n",
      "Downloaded file: 6408382.featnames\n",
      "Downloaded file: Description\n",
      "Downloaded folder: Twitter-Ego\n"
     ]
    },
    {
     "data": {
      "text/plain": [
       "{'Facebook': '3437_2', 'Twitter': '6408382'}"
      ]
     },
     "execution_count": 4,
     "metadata": {},
     "output_type": "execute_result"
    }
   ],
   "source": [
    "!rm -rf Group$group_num\n",
    "node_names = download_files(group_num)\n",
    "node_names"
   ]
  },
  {
   "cell_type": "markdown",
   "metadata": {},
   "source": [
    "A\n",
    "=\n",
    "\n",
    "How many nodes and edges are there in the networks?"
   ]
  },
  {
   "cell_type": "markdown",
   "metadata": {},
   "source": [
    "Manual calculation\n",
    "------------------"
   ]
  },
  {
   "cell_type": "markdown",
   "metadata": {},
   "source": [
    "### Facebook\n",
    "\n",
    "Since facebook is an undirected graph, we use the `sorted` function to\n",
    "avoid counting the same edge twice.\n",
    "\n",
    "for instance, if we have an edge `(1, 2)` and `(2, 1)`, we will count it\n",
    "as one edge. because after sorting, they will be `(1, 2)`."
   ]
  },
  {
   "cell_type": "code",
   "execution_count": 5,
   "metadata": {},
   "outputs": [
    {
     "data": {
      "text/plain": [
       "[(3596, 3627),\n",
       " (3643, 3711),\n",
       " (3625, 3672),\n",
       " (3644, 3685),\n",
       " (3684, 3721),\n",
       " (3584, 3643),\n",
       " (3640, 3642),\n",
       " (3593, 3719),\n",
       " (3605, 3702),\n",
       " (3596, 3721),\n",
       " (3680, 3714),\n",
       " (3596, 3730),\n",
       " (3608, 3713),\n",
       " (3608, 3722),\n",
       " (3651, 3674),\n",
       " (3651, 3683),\n",
       " (3620, 3714),\n",
       " (3596, 3604),\n",
       " (3653, 3720),\n",
       " (3617, 3645)]"
      ]
     },
     "execution_count": 5,
     "metadata": {},
     "output_type": "execute_result"
    }
   ],
   "source": [
    "facebook_edges = set()\n",
    "with open(f\"Group{group_num}/Facebook-Ego/{node_names['Facebook']}.edges\", 'r') as f:\n",
    "    for i in f:\n",
    "        a,b = i.strip().split()\n",
    "        facebook_edges.add(tuple(sorted((int(a), int(b)))))\n",
    "\n",
    "list(facebook_edges)[:20]"
   ]
  },
  {
   "cell_type": "code",
   "execution_count": 6,
   "metadata": {},
   "outputs": [
    {
     "name": "stdout",
     "output_type": "stream",
     "text": [
      "Number of edges in Facebook dataset: 367\n"
     ]
    }
   ],
   "source": [
    "print(f\"Number of edges in Facebook dataset: {len(facebook_edges)}\")"
   ]
  },
  {
   "cell_type": "code",
   "execution_count": 7,
   "metadata": {},
   "outputs": [
    {
     "name": "stdout",
     "output_type": "stream",
     "text": [
      "Number of nodes in Facebook dataset: 132\n"
     ]
    }
   ],
   "source": [
    "# number of nodes:\n",
    "fnodes = set()\n",
    "for edge in facebook_edges:\n",
    "    fnodes.add(edge[0])\n",
    "    fnodes.add(edge[1])\n",
    "print(f\"Number of nodes in Facebook dataset: {len(fnodes)}\")"
   ]
  },
  {
   "cell_type": "markdown",
   "metadata": {},
   "source": [
    "### Twitter\n",
    "\n",
    "Twitter is a directed graph, so we don't need to sort the edges."
   ]
  },
  {
   "cell_type": "code",
   "execution_count": 8,
   "metadata": {},
   "outputs": [
    {
     "data": {
      "text/plain": [
       "[(37665322, 177161911),\n",
       " (21808052, 809864),\n",
       " (80245884, 91585368),\n",
       " (23595873, 23739721),\n",
       " (21808052, 22139698),\n",
       " (16890327, 46422814),\n",
       " (89186018, 142450248),\n",
       " (16434310, 124444856),\n",
       " (462993829, 23739721),\n",
       " (16913834, 124444856),\n",
       " (17621204, 8362812),\n",
       " (15290966, 9224902),\n",
       " (35718360, 21755787),\n",
       " (21603325, 14844734),\n",
       " (16593859, 124886495),\n",
       " (14955344, 46422814),\n",
       " (14856594, 24844163),\n",
       " (37665322, 4620451),\n",
       " (14856594, 15290966),\n",
       " (177161911, 22139698)]"
      ]
     },
     "execution_count": 8,
     "metadata": {},
     "output_type": "execute_result"
    }
   ],
   "source": [
    "twiiter_edges = set()\n",
    "with open(f\"Group{group_num}/Twitter-Ego/{node_names['Twitter']}.edges\", 'r') as f:\n",
    "    for i in f:\n",
    "        a,b = i.strip().split()\n",
    "        twiiter_edges.add(tuple((int(a), int(b))))\n",
    "\n",
    "list(twiiter_edges)[:20]"
   ]
  },
  {
   "cell_type": "code",
   "execution_count": 9,
   "metadata": {},
   "outputs": [
    {
     "name": "stdout",
     "output_type": "stream",
     "text": [
      "Number of edges in Twitter dataset: 3379\n"
     ]
    }
   ],
   "source": [
    "print(f\"Number of edges in Twitter dataset: {len(twiiter_edges)}\")"
   ]
  },
  {
   "cell_type": "code",
   "execution_count": 10,
   "metadata": {},
   "outputs": [
    {
     "name": "stdout",
     "output_type": "stream",
     "text": [
      "Number of nodes in Twitter dataset: 151\n"
     ]
    }
   ],
   "source": [
    "tnodes = set()\n",
    "for edge in twiiter_edges:\n",
    "    tnodes.add(edge[0])\n",
    "    tnodes.add(edge[1])\n",
    "print(f\"Number of nodes in Twitter dataset: {len(tnodes)}\")"
   ]
  },
  {
   "cell_type": "markdown",
   "metadata": {},
   "source": [
    "Using NetworkX\n",
    "--------------"
   ]
  },
  {
   "cell_type": "markdown",
   "metadata": {},
   "source": [
    "### Facebook"
   ]
  },
  {
   "cell_type": "code",
   "execution_count": 11,
   "metadata": {},
   "outputs": [],
   "source": [
    "import networkx as nx"
   ]
  },
  {
   "cell_type": "code",
   "execution_count": 12,
   "metadata": {},
   "outputs": [
    {
     "name": "stdout",
     "output_type": "stream",
     "text": [
      "number of edges in facebook graph: 367\n",
      "number of nodes in facebook graph: 132\n"
     ]
    }
   ],
   "source": [
    "facebook_graph = nx.read_edgelist(f\"Group{group_num}/Facebook-Ego/{node_names['Facebook']}.edges\", nodetype=int)\n",
    "print(\"number of edges in facebook graph:\", facebook_graph.number_of_edges())\n",
    "print(\"number of nodes in facebook graph:\", facebook_graph.number_of_nodes())"
   ]
  },
  {
   "cell_type": "markdown",
   "metadata": {},
   "source": [
    "### Twitter"
   ]
  },
  {
   "cell_type": "code",
   "execution_count": 13,
   "metadata": {},
   "outputs": [
    {
     "name": "stdout",
     "output_type": "stream",
     "text": [
      "number of edges in twitter graph: 3379\n",
      "number of nodes in twitter graph: 151\n"
     ]
    }
   ],
   "source": [
    "twitter_graph = nx.read_edgelist(f\"Group{group_num}/Twitter-Ego/{node_names['Twitter']}.edges\", nodetype=int, create_using=nx.DiGraph)\n",
    "print(\"number of edges in twitter graph:\", twitter_graph.number_of_edges())\n",
    "print(\"number of nodes in twitter graph:\", twitter_graph.number_of_nodes())"
   ]
  },
  {
   "cell_type": "markdown",
   "metadata": {},
   "source": [
    "B\n",
    "=\n",
    "\n",
    "What are the maximum degree and the average degree of the networks?"
   ]
  },
  {
   "cell_type": "markdown",
   "metadata": {},
   "source": [
    "Manual calculation\n",
    "------------------"
   ]
  },
  {
   "cell_type": "markdown",
   "metadata": {},
   "source": [
    "### Facebook"
   ]
  },
  {
   "cell_type": "code",
   "execution_count": 14,
   "metadata": {},
   "outputs": [
    {
     "data": {
      "text/plain": [
       "defaultdict(int,\n",
       "            {3596: 25,\n",
       "             3627: 8,\n",
       "             3643: 7,\n",
       "             3711: 10,\n",
       "             3625: 10,\n",
       "             3672: 9,\n",
       "             3644: 3,\n",
       "             3685: 3,\n",
       "             3684: 15,\n",
       "             3721: 10,\n",
       "             3584: 10,\n",
       "             3640: 14,\n",
       "             3642: 6,\n",
       "             3593: 14,\n",
       "             3719: 8,\n",
       "             3605: 12,\n",
       "             3702: 11,\n",
       "             3680: 10,\n",
       "             3714: 6,\n",
       "             3730: 10,\n",
       "             3608: 9,\n",
       "             3713: 11,\n",
       "             3722: 9,\n",
       "             3651: 5,\n",
       "             3674: 10,\n",
       "             3683: 4,\n",
       "             3620: 6,\n",
       "             3604: 19,\n",
       "             3653: 1,\n",
       "             3720: 2,\n",
       "             3617: 8,\n",
       "             3645: 5,\n",
       "             3687: 9,\n",
       "             3731: 13,\n",
       "             3635: 11,\n",
       "             3667: 6,\n",
       "             3670: 8,\n",
       "             3692: 15,\n",
       "             3693: 7,\n",
       "             3586: 11,\n",
       "             3606: 2,\n",
       "             3662: 3,\n",
       "             3669: 1,\n",
       "             3700: 1,\n",
       "             3718: 6,\n",
       "             3590: 13,\n",
       "             3663: 5,\n",
       "             3710: 11,\n",
       "             3728: 11,\n",
       "             3639: 3,\n",
       "             3695: 4,\n",
       "             3611: 8,\n",
       "             3624: 2,\n",
       "             3679: 2,\n",
       "             3694: 1,\n",
       "             3707: 7,\n",
       "             3599: 13,\n",
       "             3636: 10,\n",
       "             3638: 3,\n",
       "             3716: 3,\n",
       "             3612: 2,\n",
       "             3673: 1,\n",
       "             3603: 3,\n",
       "             3697: 4,\n",
       "             3629: 11,\n",
       "             3715: 4,\n",
       "             3690: 4,\n",
       "             3649: 4,\n",
       "             3646: 7,\n",
       "             3616: 4,\n",
       "             3647: 3,\n",
       "             3664: 2,\n",
       "             3696: 4,\n",
       "             3656: 7,\n",
       "             3633: 18,\n",
       "             3628: 3,\n",
       "             3657: 3,\n",
       "             3659: 3,\n",
       "             3615: 7,\n",
       "             3705: 10,\n",
       "             3623: 3,\n",
       "             3621: 3,\n",
       "             3677: 14,\n",
       "             3648: 8,\n",
       "             3706: 6,\n",
       "             3727: 1,\n",
       "             3658: 4,\n",
       "             3631: 4,\n",
       "             3591: 4,\n",
       "             3594: 3,\n",
       "             3613: 4,\n",
       "             3686: 3,\n",
       "             3637: 1,\n",
       "             3634: 3,\n",
       "             3632: 1,\n",
       "             3681: 3,\n",
       "             3614: 1,\n",
       "             3652: 3,\n",
       "             3595: 3,\n",
       "             3698: 6,\n",
       "             3598: 2,\n",
       "             3665: 2,\n",
       "             3610: 4,\n",
       "             3609: 4,\n",
       "             3607: 2,\n",
       "             3654: 3,\n",
       "             3601: 4,\n",
       "             3666: 6,\n",
       "             3725: 3,\n",
       "             3712: 3,\n",
       "             3641: 3,\n",
       "             3655: 3,\n",
       "             3682: 1,\n",
       "             3618: 5,\n",
       "             3602: 2,\n",
       "             3630: 2,\n",
       "             3587: 3,\n",
       "             3732: 1,\n",
       "             3675: 1,\n",
       "             3708: 1,\n",
       "             3622: 3,\n",
       "             3585: 1,\n",
       "             3676: 2,\n",
       "             3592: 3,\n",
       "             3724: 1,\n",
       "             3689: 2,\n",
       "             3600: 1,\n",
       "             3626: 1,\n",
       "             3699: 1,\n",
       "             3589: 1,\n",
       "             3660: 1,\n",
       "             3703: 1})"
      ]
     },
     "execution_count": 14,
     "metadata": {},
     "output_type": "execute_result"
    }
   ],
   "source": [
    "facebook_degrees = defaultdict(int)\n",
    "for a,b in facebook_edges:\n",
    "    facebook_degrees[a] += 1\n",
    "    facebook_degrees[b] += 1\n",
    "facebook_degrees"
   ]
  },
  {
   "cell_type": "code",
   "execution_count": 15,
   "metadata": {},
   "outputs": [
    {
     "name": "stdout",
     "output_type": "stream",
     "text": [
      "Node 3596 has the highest degree of 25 in Facebook dataset\n"
     ]
    }
   ],
   "source": [
    "max_node, max_deg = max(facebook_degrees.items(), key=lambda x: x[1])\n",
    "print(f\"Node {max_node} has the highest degree of {max_deg} in Facebook dataset\")"
   ]
  },
  {
   "cell_type": "code",
   "execution_count": 16,
   "metadata": {},
   "outputs": [
    {
     "name": "stdout",
     "output_type": "stream",
     "text": [
      "Mean degree of nodes in Facebook dataset: 5.5606\n"
     ]
    }
   ],
   "source": [
    "print(f\"Mean degree of nodes in Facebook dataset: {sum(facebook_degrees.values())/len(facebook_degrees):.4f}\")"
   ]
  },
  {
   "cell_type": "markdown",
   "metadata": {},
   "source": [
    "Also we know to find the the mean degree we have: $$\n",
    "\\bar{k} = \\frac{\\sum_{i=1}^{n} k_i}{N} = \\frac{2E}{N}\n",
    "$$"
   ]
  },
  {
   "cell_type": "code",
   "execution_count": 17,
   "metadata": {},
   "outputs": [
    {
     "name": "stdout",
     "output_type": "stream",
     "text": [
      "Median degree of nodes in Facebook dataset: 5.5606\n"
     ]
    }
   ],
   "source": [
    "print(f\"Median degree of nodes in Facebook dataset: {2*len(facebook_edges)/len(fnodes):.4f}\")"
   ]
  },
  {
   "cell_type": "markdown",
   "metadata": {},
   "source": [
    "### Twitter\n",
    "\n",
    "since twitter is a directed graph, we need to calculate the in-degree\n",
    "and out-degree separately."
   ]
  },
  {
   "cell_type": "code",
   "execution_count": 18,
   "metadata": {},
   "outputs": [
    {
     "name": "stdout",
     "output_type": "stream",
     "text": [
      "Node 16434310 has the highest in-degree of 83 in Twitter dataset\n",
      "Node 24844163 has the highest out-degree of 72 in Twitter dataset\n",
      "Mean in-degree of nodes in Twitter dataset: 22.3775\n",
      "Mean out-degree of nodes in Twitter dataset: 22.3775\n",
      "Mean degree of nodes in Twitter dataset: 44.7550\n",
      "Median in-degree of nodes in Twitter dataset: 44.7550\n"
     ]
    }
   ],
   "source": [
    "twiiter_in_degrees = defaultdict(int)\n",
    "twiiter_out_degrees = defaultdict(int)\n",
    "\n",
    "for a,b in twiiter_edges:\n",
    "    twiiter_out_degrees[a] += 1\n",
    "    twiiter_in_degrees[b] += 1\n",
    "\n",
    "max_in_node, max_in_deg = max(twiiter_in_degrees.items(), key=lambda x: x[1])\n",
    "max_out_node, max_out_deg = max(twiiter_out_degrees.items(), key=lambda x: x[1])\n",
    "\n",
    "print(f\"Node {max_in_node} has the highest in-degree of {max_in_deg} in Twitter dataset\")\n",
    "print(f\"Node {max_out_node} has the highest out-degree of {max_out_deg} in Twitter dataset\")\n",
    "print(f\"Mean in-degree of nodes in Twitter dataset: {sum(twiiter_in_degrees.values())/len(tnodes):.4f}\")\n",
    "print(f\"Mean out-degree of nodes in Twitter dataset: {sum(twiiter_out_degrees.values())/len(tnodes):.4f}\")\n",
    "print(f\"Mean degree of nodes in Twitter dataset: {(sum(twiiter_in_degrees.values())+sum(twiiter_out_degrees.values()))/len(tnodes):.4f}\")\n",
    "print(f\"Median in-degree of nodes in Twitter dataset: {2*len(twiiter_edges)/len(tnodes):.4f}\")"
   ]
  },
  {
   "cell_type": "markdown",
   "metadata": {},
   "source": [
    "### Using NetworkX"
   ]
  },
  {
   "cell_type": "markdown",
   "metadata": {},
   "source": [
    "### Facebook"
   ]
  },
  {
   "cell_type": "code",
   "execution_count": 19,
   "metadata": {},
   "outputs": [
    {
     "name": "stdout",
     "output_type": "stream",
     "text": [
      "Node 3596 has the highest degree of 25 in Facebook dataset\n",
      "Mean degree of nodes in Facebook dataset: 5.5606\n"
     ]
    }
   ],
   "source": [
    "max_node, max_deg = max(dict(facebook_graph.degree()).items(), key=lambda x: x[1])\n",
    "print(f\"Node {max_node} has the highest degree of {max_deg} in Facebook dataset\")\n",
    "print(f\"Mean degree of nodes in Facebook dataset: {sum(dict(facebook_graph.degree()).values())/len(dict(facebook_graph.degree())):.4f}\")"
   ]
  },
  {
   "cell_type": "markdown",
   "metadata": {},
   "source": [
    "### Twitter"
   ]
  },
  {
   "cell_type": "code",
   "execution_count": 20,
   "metadata": {},
   "outputs": [
    {
     "name": "stdout",
     "output_type": "stream",
     "text": [
      "Node 16434310 has the highest in-degree of 83 in Twitter dataset\n",
      "Node 24844163 has the highest out-degree of 72 in Twitter dataset\n",
      "Mean in-degree of nodes in Twitter dataset: 22.3775\n",
      "Mean out-degree of nodes in Twitter dataset: 22.3775\n",
      "Mean degree of nodes in Twitter dataset: 44.7550\n",
      "Median in-degree of nodes in Twitter dataset: 44.7550\n"
     ]
    }
   ],
   "source": [
    "max_in_node, max_in_deg = max(dict(twitter_graph.in_degree()).items(), key=lambda x: x[1])\n",
    "max_out_node, max_out_deg = max(dict(twitter_graph.out_degree).items(), key=lambda x: x[1])\n",
    "\n",
    "print(f\"Node {max_in_node} has the highest in-degree of {max_in_deg} in Twitter dataset\")\n",
    "print(f\"Node {max_out_node} has the highest out-degree of {max_out_deg} in Twitter dataset\")\n",
    "print(f\"Mean in-degree of nodes in Twitter dataset: {sum(dict(twitter_graph.in_degree()).values())/len(tnodes):.4f}\")\n",
    "print(f\"Mean out-degree of nodes in Twitter dataset: {sum(dict(twitter_graph.out_degree()).values())/len(tnodes):.4f}\")\n",
    "print(f\"Mean degree of nodes in Twitter dataset: {sum(dict(twitter_graph.degree()).values())/len(tnodes):.4f}\")\n",
    "print(f\"Median in-degree of nodes in Twitter dataset: {2*len(twiiter_edges)/len(tnodes):.4f}\")"
   ]
  },
  {
   "cell_type": "markdown",
   "metadata": {},
   "source": [
    "We can see all answers are consistent with each other."
   ]
  },
  {
   "cell_type": "markdown",
   "metadata": {},
   "source": [
    "C\n",
    "=\n",
    "\n",
    "Extract 5 - 8 nodes from the network and state them as a partial\n",
    "network. What is the adjacency matrix of the partial network? Why do we\n",
    "need adjacency matrix to describe the structure of the network?"
   ]
  },
  {
   "cell_type": "code",
   "execution_count": 21,
   "metadata": {},
   "outputs": [],
   "source": [
    "n_nodes = 8"
   ]
  },
  {
   "cell_type": "code",
   "execution_count": 22,
   "metadata": {},
   "outputs": [
    {
     "data": {
      "text/plain": [
       "[3692, 3702, 3595, 3654, 3731, 3722, 3697, 3666]"
      ]
     },
     "execution_count": 22,
     "metadata": {},
     "output_type": "execute_result"
    }
   ],
   "source": [
    "random.seed(0)\n",
    "selected_facebook_nodes = random.sample(list(fnodes), n_nodes)\n",
    "selected_facebook_nodes"
   ]
  },
  {
   "cell_type": "code",
   "execution_count": 23,
   "metadata": {},
   "outputs": [
    {
     "data": {
      "text/plain": [
       "[462993829,\n",
       " 7623482,\n",
       " 93006320,\n",
       " 41385649,\n",
       " 21808052,\n",
       " 8904302,\n",
       " 246691076,\n",
       " 415643219]"
      ]
     },
     "execution_count": 23,
     "metadata": {},
     "output_type": "execute_result"
    }
   ],
   "source": [
    "selected_twitter_nodes = random.sample(list(tnodes), n_nodes)\n",
    "selected_twitter_nodes"
   ]
  },
  {
   "cell_type": "markdown",
   "metadata": {},
   "source": [
    "Manual calculation\n",
    "------------------"
   ]
  },
  {
   "cell_type": "markdown",
   "metadata": {},
   "source": [
    "### Facebook"
   ]
  },
  {
   "cell_type": "code",
   "execution_count": 24,
   "metadata": {},
   "outputs": [
    {
     "name": "stdout",
     "output_type": "stream",
     "text": [
      "Adjacency matrix of selected nodes in Facebook dataset:\n",
      "0 0 0 0 0 0 0 0\n",
      "0 0 0 0 1 0 0 0\n",
      "0 0 0 0 0 0 0 0\n",
      "0 0 0 0 0 0 1 0\n",
      "0 1 0 0 0 0 0 0\n",
      "0 0 0 0 0 0 0 0\n",
      "0 0 0 1 0 0 0 0\n",
      "0 0 0 0 0 0 0 0\n"
     ]
    }
   ],
   "source": [
    "mini_facebook_adj = [[0]*n_nodes for _ in range(n_nodes)]\n",
    "for i, node1 in enumerate(selected_facebook_nodes):\n",
    "    for j, node2 in enumerate(selected_facebook_nodes):\n",
    "        if (node1, node2) in facebook_edges or (node2, node1) in facebook_edges:\n",
    "            mini_facebook_adj[i][j] = 1\n",
    "\n",
    "print(\"Adjacency matrix of selected nodes in Facebook dataset:\")\n",
    "print(\"\\n\".join([\" \".join(map(str, row)) for row in mini_facebook_adj]))"
   ]
  },
  {
   "cell_type": "markdown",
   "metadata": {},
   "source": [
    "### Twitter"
   ]
  },
  {
   "cell_type": "code",
   "execution_count": 25,
   "metadata": {},
   "outputs": [
    {
     "name": "stdout",
     "output_type": "stream",
     "text": [
      "Adjacency matrix of selected nodes in Twitter dataset:\n",
      "0 0 1 0 0 0 0 0\n",
      "0 0 0 0 0 0 0 0\n",
      "0 0 0 0 1 1 0 0\n",
      "0 0 1 0 0 1 0 0\n",
      "0 0 1 0 0 1 1 0\n",
      "0 0 1 1 0 0 0 0\n",
      "0 0 0 0 1 0 0 0\n",
      "0 0 0 0 0 0 0 0\n"
     ]
    }
   ],
   "source": [
    "mini_twitter_adj = [[0]*n_nodes for _ in range(n_nodes)]\n",
    "for i, node1 in enumerate(selected_twitter_nodes):\n",
    "    for j, node2 in enumerate(selected_twitter_nodes):\n",
    "        if (node1, node2) in twiiter_edges:\n",
    "            mini_twitter_adj[i][j] = 1\n",
    "\n",
    "print(\"Adjacency matrix of selected nodes in Twitter dataset:\")\n",
    "print(\"\\n\".join([\" \".join(map(str, row)) for row in mini_twitter_adj]))"
   ]
  },
  {
   "cell_type": "markdown",
   "metadata": {},
   "source": [
    "Using NetworkX\n",
    "--------------"
   ]
  },
  {
   "cell_type": "code",
   "execution_count": 26,
   "metadata": {},
   "outputs": [
    {
     "name": "stdout",
     "output_type": "stream",
     "text": [
      "Adjacency matrix of selected nodes in Facebook dataset:\n"
     ]
    },
    {
     "name": "stdout",
     "output_type": "stream",
     "text": [
      "[[0 0 0 0 1 0 0 0]\n",
      " [0 0 0 0 0 0 0 0]\n",
      " [0 0 0 0 0 0 0 0]\n",
      " [0 0 0 0 0 0 0 0]\n",
      " [1 0 0 0 0 0 0 0]\n",
      " [0 0 0 0 0 0 0 0]\n",
      " [0 0 0 0 0 0 0 1]\n",
      " [0 0 0 0 0 0 1 0]]\n"
     ]
    }
   ],
   "source": [
    "mini_facebook_graph = nx.subgraph(facebook_graph, selected_facebook_nodes)\n",
    "print(\"Adjacency matrix of selected nodes in Facebook dataset:\")\n",
    "print(nx.adjacency_matrix(mini_facebook_graph).todense())"
   ]
  },
  {
   "cell_type": "code",
   "execution_count": 27,
   "metadata": {},
   "outputs": [
    {
     "name": "stdout",
     "output_type": "stream",
     "text": [
      "Adjacency matrix of selected nodes in Twitter dataset:\n",
      "[[0 0 0 0 0 0 1 0]\n",
      " [0 0 0 1 0 0 0 0]\n",
      " [0 0 0 1 1 0 0 0]\n",
      " [0 0 1 0 0 0 1 0]\n",
      " [0 0 1 1 0 0 0 0]\n",
      " [0 0 0 0 0 0 0 0]\n",
      " [1 0 1 1 0 0 0 0]\n",
      " [0 0 0 0 0 0 0 0]]\n"
     ]
    }
   ],
   "source": [
    "mini_twitter_graph = nx.subgraph(twitter_graph, selected_twitter_nodes)\n",
    "print(\"Adjacency matrix of selected nodes in Twitter dataset:\")\n",
    "print(nx.adjacency_matrix(mini_twitter_graph).todense())"
   ]
  },
  {
   "cell_type": "markdown",
   "metadata": {},
   "source": [
    "-   Why do we need adjacency matrix to describe the structure of the\n",
    "    network?\n",
    "\n",
    "    > The adjacency matrix is a simple way to represent the structure of\n",
    "    > a graph. It is easy to understand and implement. It is also easy\n",
    "    > to perform matrix operations on the adjacency matrix to analyze\n",
    "    > the graph."
   ]
  }
 ],
 "metadata": {
  "kernelspec": {
   "display_name": "Python 3 (ipykernel)",
   "language": "python",
   "name": "python3"
  },
  "language_info": {
   "codemirror_mode": {
    "name": "ipython",
    "version": "3"
   },
   "file_extension": ".py",
   "mimetype": "text/x-python",
   "name": "python",
   "nbconvert_exporter": "python",
   "pygments_lexer": "ipython3",
   "version": "3.11.0rc1"
  }
 },
 "nbformat": 4,
 "nbformat_minor": 2
}
