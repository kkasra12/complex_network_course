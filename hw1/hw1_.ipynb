{
 "cells": [
  {
   "cell_type": "code",
   "execution_count": 2,
   "metadata": {},
   "outputs": [],
   "source": [
    "group_num = 9\n",
    "import os\n",
    "import json\n",
    "import subprocess\n",
    "from collections import defaultdict\n",
    "import random"
   ]
  },
  {
   "cell_type": "code",
   "execution_count": 6,
   "metadata": {},
   "outputs": [
    {
     "name": "stdout",
     "output_type": "stream",
     "text": [
      "https://raw.githubusercontent.com/1250326/exercise_complex_network/master/Datasets/Group9/Facebook-Ego/3437_2.edges\n",
      "https://raw.githubusercontent.com/1250326/exercise_complex_network/master/Datasets/Group9/Facebook-Ego/3437_2.egofeat\n",
      "https://raw.githubusercontent.com/1250326/exercise_complex_network/master/Datasets/Group9/Facebook-Ego/3437_2.feat\n",
      "https://raw.githubusercontent.com/1250326/exercise_complex_network/master/Datasets/Group9/Facebook-Ego/3437_2.featnames\n",
      "https://raw.githubusercontent.com/1250326/exercise_complex_network/master/Datasets/Group9/Facebook-Ego/Description\n"
     ]
    }
   ],
   "source": [
    "# for demonstration:\n",
    "!curl -s https://api.github.com/repos/1250326/exercise_complex_network/contents/Datasets/Group9/Facebook-Ego | grep download_url | cut -d '\"' -f 4\n",
    "# !curl -s https://api.github.com/repos/1250326/exercise_complex_network/contents/Datasets/Group9/Twitter-Ego"
   ]
  },
  {
   "cell_type": "code",
   "execution_count": 7,
   "metadata": {},
   "outputs": [
    {
     "name": "stdout",
     "output_type": "stream",
     "text": [
      "Downloaded file: 3437_2.edges\n",
      "Downloaded file: 3437_2.egofeat\n",
      "Downloaded file: 3437_2.feat\n",
      "Downloaded file: 3437_2.featnames\n",
      "Downloaded file: Description\n",
      "Downloaded folder: Facebook-Ego\n",
      "Downloaded file: 6408382.circles\n",
      "Downloaded file: 6408382.edges\n",
      "Downloaded file: 6408382.egofeat\n",
      "Downloaded file: 6408382.feat\n",
      "Downloaded file: 6408382.featnames\n",
      "Downloaded file: Description\n",
      "Downloaded folder: Twitter-Ego\n"
     ]
    },
    {
     "data": {
      "text/plain": [
       "{'Facebook': '3437_2', 'Twitter': '6408382'}"
      ]
     },
     "execution_count": 7,
     "metadata": {},
     "output_type": "execute_result"
    }
   ],
   "source": [
    "def download_files(group_num, folders = None):\n",
    "    node_names = {}\n",
    "    root_folder = f\"Group{group_num}\"\n",
    "    if not os.path.exists(root_folder):\n",
    "        os.mkdir(root_folder)\n",
    "    else:\n",
    "        print(f\"Folder {root_folder} already exists\")\n",
    "        return\n",
    "    if folders is None:\n",
    "        folders = ['Facebook-Ego', 'Twitter-Ego']\n",
    "    for folder in folders:\n",
    "        os.mkdir(os.path.join(root_folder, folder))\n",
    "        res = subprocess.run([\"curl\", \"-s\", f\"https://api.github.com/repos/1250326/exercise_complex_network/contents/Datasets/Group{group_num}/{folder}\"], stdout=subprocess.PIPE)\n",
    "        for file_info in json.loads(res.stdout):\n",
    "            os.system(f\"wget -O {os.path.join(root_folder, folder, (fname:=file_info['name']))} {file_info['download_url']} -q\")\n",
    "            print(f\"Downloaded file: {fname}\")\n",
    "            if '.' in fname:\n",
    "                node_names[folder.split('-')[0]] = fname.split('.')[0]\n",
    "        print(f\"Downloaded folder: {folder}\")\n",
    "    return node_names\n",
    "\n",
    "!rm -rf Group$group_num\n",
    "node_names = download_files(group_num)\n",
    "node_names"
   ]
  },
  {
   "cell_type": "markdown",
   "metadata": {},
   "source": [
    "# A\n",
    "\n",
    "How many nodes and edges are there in the networks?"
   ]
  },
  {
   "cell_type": "markdown",
   "metadata": {},
   "source": [
    "## Manual calculation\n"
   ]
  },
  {
   "cell_type": "markdown",
   "metadata": {},
   "source": [
    "### Facebook\n",
    "\n",
    "Since facebook is an undirected graph, we use the `sorted` function to\n",
    "avoid counting the same edge twice.\n",
    "\n",
    "for instance, if we have an edge `(1, 2)` and `(2, 1)`, we will count it\n",
    "as one edge. because after sorting, they will be `(1, 2)`."
   ]
  },
  {
   "cell_type": "code",
   "execution_count": 8,
   "metadata": {},
   "outputs": [
    {
     "data": {
      "text/plain": [
       "[(3596, 3627),\n",
       " (3643, 3711),\n",
       " (3625, 3672),\n",
       " (3644, 3685),\n",
       " (3684, 3721),\n",
       " (3584, 3643),\n",
       " (3640, 3642),\n",
       " (3593, 3719),\n",
       " (3605, 3702),\n",
       " (3596, 3721),\n",
       " (3680, 3714),\n",
       " (3596, 3730),\n",
       " (3608, 3713),\n",
       " (3608, 3722),\n",
       " (3651, 3674),\n",
       " (3651, 3683),\n",
       " (3620, 3714),\n",
       " (3596, 3604),\n",
       " (3653, 3720),\n",
       " (3617, 3645)]"
      ]
     },
     "execution_count": 8,
     "metadata": {},
     "output_type": "execute_result"
    }
   ],
   "source": [
    "facebook_edges = set()\n",
    "with open(f\"Group{group_num}/Facebook-Ego/{node_names['Facebook']}.edges\", 'r') as f:\n",
    "    for i in f:\n",
    "        a,b = i.strip().split()\n",
    "        facebook_edges.add(tuple(sorted((int(a), int(b)))))\n",
    "\n",
    "list(facebook_edges)[:20]"
   ]
  },
  {
   "cell_type": "code",
   "execution_count": 9,
   "metadata": {},
   "outputs": [
    {
     "name": "stdout",
     "output_type": "stream",
     "text": [
      "Number of edges in Facebook dataset: 367\n"
     ]
    }
   ],
   "source": [
    "print(f\"Number of edges in Facebook dataset: {len(facebook_edges)}\")\n"
   ]
  },
  {
   "cell_type": "code",
   "execution_count": 10,
   "metadata": {},
   "outputs": [
    {
     "name": "stdout",
     "output_type": "stream",
     "text": [
      "Number of nodes in Facebook dataset: 132\n"
     ]
    }
   ],
   "source": [
    "# number of nodes:\n",
    "fnodes = set()\n",
    "for edge in facebook_edges:\n",
    "    fnodes.add(edge[0])\n",
    "    fnodes.add(edge[1])\n",
    "print(f\"Number of nodes in Facebook dataset: {len(fnodes)}\")"
   ]
  },
  {
   "cell_type": "code",
   "execution_count": null,
   "metadata": {},
   "outputs": [],
   "source": []
  }
 ],
 "metadata": {
  "kernelspec": {
   "display_name": "Python 3 (ipykernel)",
   "language": "python",
   "name": "python3"
  },
  "language_info": {
   "codemirror_mode": {
    "name": "ipython",
    "version": 3
   },
   "file_extension": ".py",
   "mimetype": "text/x-python",
   "name": "python",
   "nbconvert_exporter": "python",
   "pygments_lexer": "ipython3",
   "version": "3.11.0rc1"
  }
 },
 "nbformat": 4,
 "nbformat_minor": 2
}
